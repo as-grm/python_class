{
 "cells": [
  {
   "cell_type": "markdown",
   "id": "81eca402-9543-40d1-8e57-47dcc3cacaff",
   "metadata": {},
   "source": [
    "# Uvod v Python\n",
    "\n",
    "## Lecture - 02\n",
    "\n",
    "Vsebina:\n",
    "- aritmetične operacije\n",
    "- pogojne operacije\n",
    "- logične operacije\n",
    "- pogojni stavki\n",
    "\n",
    "Podrobnejši opis operacij najdetena strani **[Python Operators](https://www.w3schools.com/python/python_operators.asp)**"
   ]
  },
  {
   "cell_type": "markdown",
   "id": "22426625-a7a8-420e-9462-acdc6166cfb0",
   "metadata": {
    "tags": []
   },
   "source": [
    "---\n",
    "\n",
    "### Artimetične operacije\n",
    "\n",
    "| Operator | Ime | Primer |\n",
    "| :---: | :---: | :---:|\n",
    "| + | Addition | x + y |\n",
    "| - | Subtraction | x - y|\n",
    "| * | Multiplication | x * y |\n",
    "| / | Division | x / y |\n",
    "| % | Modulus | x % y |\n",
    "| ** | Exponentiation | x ** y |\n",
    "| // | Floor division | x // y |\n"
   ]
  },
  {
   "cell_type": "code",
   "execution_count": 1,
   "id": "f20827eb-0c0e-4dc2-ae0d-13dfca6e430d",
   "metadata": {},
   "outputs": [
    {
     "name": "stdout",
     "output_type": "stream",
     "text": [
      "x+y: 12\n",
      "x-y: 8\n",
      "x*y: 20\n",
      "x/y: 5.0\n",
      "x%y: 0\n",
      "x**y: 100\n",
      "x//y: 5\n"
     ]
    }
   ],
   "source": [
    "x = 10\n",
    "y = 2\n",
    "\n",
    "print('x+y:',x+y)\n",
    "print('x-y:',x-y)\n",
    "print('x*y:',x*y)\n",
    "print('x/y:',x/y)\n",
    "print('x%y:',x%y)\n",
    "print('x**y:',x**y)\n",
    "print('x//y:',x//y)"
   ]
  },
  {
   "cell_type": "markdown",
   "id": "3760ba59-ecf4-46cf-b491-6e78fc724a69",
   "metadata": {},
   "source": [
    "---\n",
    "\n",
    "### Operacije primerjave\n",
    "\n",
    "Pri opreacijah primerjave je rezultat v obliki pravilno/nepravilno (**True**/**False**)\n",
    "\n",
    "|Operator | Ime | Primer |\n",
    "| :---: | :---: | :---:|\n",
    "| == | Equal | x == y |\n",
    "| != | Not equal | x != y |\n",
    "| > | Greater than | x > y |\n",
    "| < | Less than | x < y |\n",
    "| >= | Greater than or equal to | x >= y |\n",
    "| <= | Less than or equal to | x <= y |"
   ]
  },
  {
   "cell_type": "code",
   "execution_count": 2,
   "id": "3bbd3054-663d-4af7-ac1e-9cf0f3281e38",
   "metadata": {},
   "outputs": [
    {
     "name": "stdout",
     "output_type": "stream",
     "text": [
      "True\n"
     ]
    }
   ],
   "source": [
    "print(1 == 1)"
   ]
  },
  {
   "cell_type": "code",
   "execution_count": 3,
   "id": "62a19203-3a62-420a-9d23-fd21f89cf05d",
   "metadata": {},
   "outputs": [
    {
     "name": "stdout",
     "output_type": "stream",
     "text": [
      "False\n"
     ]
    }
   ],
   "source": [
    "print(1 != 1)"
   ]
  },
  {
   "cell_type": "markdown",
   "id": "c0a8b167-f17f-4637-ac18-c0d94c75c852",
   "metadata": {},
   "source": [
    "---\n",
    "\n",
    "### Logične operacije\n",
    "\n",
    "| Operator | Opis | Primer |\n",
    "| :--- | :--- | ---:|\n",
    "| and | Returns **True** if both statements are true | `x < 5 and  x < 10` |\n",
    "| or | Returns **True** if one of the statements is true | `x < 5 or x < 4` |\n",
    "| not | Reverse the result, returns **False** if the result is true | `not(x < 5 and x < 10)` |"
   ]
  },
  {
   "cell_type": "markdown",
   "id": "e73e4784-3403-4152-8ae7-2f425a114701",
   "metadata": {},
   "source": [
    "---\n",
    "\n",
    "### Pogojni stavki If, Else, Elif\n",
    "\n",
    "Vse logične operacije se združijo v uporabi pri pogojnih stavkih, kjer nekaj izvedemo pri določenem pogoju.\n",
    "\n",
    "Imamo tri stopnje pogojev:\n",
    "1. čisti `if` stavek\n",
    "2. `if` z kombinacijo `else` stavek\n",
    "3. `if` z kombinacijo `else` in `elif` stavek"
   ]
  },
  {
   "cell_type": "code",
   "execution_count": 4,
   "id": "b318511f-c331-42cf-a100-8acb6a570c2a",
   "metadata": {},
   "outputs": [],
   "source": [
    "x = 10\n",
    "y = 20\n",
    "\n",
    "if x > y:\n",
    "    print('x je večji od y')"
   ]
  },
  {
   "cell_type": "code",
   "execution_count": 5,
   "id": "f604c1be-3393-4a37-86f4-c8293ab1de7e",
   "metadata": {},
   "outputs": [
    {
     "name": "stdout",
     "output_type": "stream",
     "text": [
      "x je manjši od y\n"
     ]
    }
   ],
   "source": [
    "x = 10\n",
    "y = 20\n",
    "\n",
    "if x > y:\n",
    "    print('x je večji od y')\n",
    "else:\n",
    "    print('x je manjši od y')"
   ]
  },
  {
   "cell_type": "code",
   "execution_count": 6,
   "id": "0ad9f4d5-3133-46de-861e-510021187e8d",
   "metadata": {},
   "outputs": [
    {
     "name": "stdout",
     "output_type": "stream",
     "text": [
      "x je manjši od y in z\n"
     ]
    }
   ],
   "source": [
    "x = 15\n",
    "y = 20\n",
    "z = 30\n",
    "\n",
    "if x > y:\n",
    "    print('x je večji od y')\n",
    "    if x > z:\n",
    "        print('x je večji od z')\n",
    "    else:\n",
    "        print('x je manjši od z')\n",
    "elif x > z:\n",
    "    print('x je večji od z')\n",
    "else:\n",
    "    print('x je manjši od y in z')  "
   ]
  },
  {
   "cell_type": "code",
   "execution_count": 7,
   "id": "8c447879-de5a-4a48-9f75-b383aaba1065",
   "metadata": {},
   "outputs": [
    {
     "name": "stdout",
     "output_type": "stream",
     "text": [
      "x je večji od z\n"
     ]
    }
   ],
   "source": [
    "x = 35\n",
    "y = 20\n",
    "z = 30\n",
    "\n",
    "if (x > y) and (x < z):\n",
    "    print('x je večji od y')\n",
    "elif x > z:\n",
    "    print('x je večji od z')\n",
    "else:\n",
    "    print('x je manjši od y in z')"
   ]
  },
  {
   "cell_type": "code",
   "execution_count": null,
   "id": "1c10681a-b838-4c20-88fb-6c71faf76aeb",
   "metadata": {},
   "outputs": [],
   "source": []
  }
 ],
 "metadata": {
  "kernelspec": {
   "display_name": "Conda-MATH",
   "language": "python",
   "name": "computation"
  },
  "language_info": {
   "codemirror_mode": {
    "name": "ipython",
    "version": 3
   },
   "file_extension": ".py",
   "mimetype": "text/x-python",
   "name": "python",
   "nbconvert_exporter": "python",
   "pygments_lexer": "ipython3",
   "version": "3.9.7"
  }
 },
 "nbformat": 4,
 "nbformat_minor": 5
}
