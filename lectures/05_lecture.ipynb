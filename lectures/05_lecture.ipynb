{
 "cells": [
  {
   "cell_type": "markdown",
   "id": "35c87c32-152c-44c3-a554-0635d26042d7",
   "metadata": {},
   "source": [
    "# Uvod v Python\n",
    "\n",
    "## Lecture - 05\n",
    "\n",
    "Vsebina:\n",
    "- uporaba **NumPy** paketa \n",
    "- uporaba **MatPlotLib** paketa\n",
    "\n",
    "Podrobnejši opis operacij najdete na strani:\n",
    "\n",
    "- **[Uradna stran za NumPy](https://numpy.org/doc/stable/index.html)**\n",
    "- **[NumPy - Quick Start](https://numpy.org/doc/stable/user/quickstart.html)**\n",
    "- **[NumPy - W3School](https://www.w3schools.com/python/numpy/numpy_intro.asp)**\n",
    "- **[NumPy Tutorial](https://www.w3schools.com/python/numpy/default.asp)**"
   ]
  },
  {
   "cell_type": "markdown",
   "id": "bf5f4f96-eb95-42cd-8666-cc962bb8d4ee",
   "metadata": {},
   "source": [
    "---\n",
    "### **Uporaba NumPy paketa**\n",
    "\n",
    "NumPy paket uporabljamo za numerične izračune v Python okolju. Bistvo NumPy knjižnjice je računanje s pomočjo **tabel**, kakor imamo to rešeno v Matlabu.\n",
    "\n",
    "**Tabela** je večdimenzionalni niz (ali vektor) s pomočjo katerega shranjujemo numerične podatke. Ko imamo enkrat podatke v NumPy array, lahko z njim poljubno računamo.\n",
    "\n",
    "**NumPy array** lahko vsebujerazlične elemente. Ponvadi so to cela ali decimalna števila. Za začetek pa moramo naložiti numpy modul."
   ]
  },
  {
   "cell_type": "code",
   "execution_count": 1,
   "id": "a1265b82-37d5-406a-935c-07b78ea60145",
   "metadata": {},
   "outputs": [],
   "source": [
    "import numpy as np"
   ]
  },
  {
   "cell_type": "code",
   "execution_count": 2,
   "id": "7c17dbdc-9934-4d39-bda1-0078fcf8925f",
   "metadata": {},
   "outputs": [],
   "source": [
    "A_int = np.array([1,2,3,4], dtype=np.int_)     # zapiše števila kot cela števila\n",
    "A_float = np.array([1,2,3,4], dtype=np.float_) # zapiše ptevila kot decimalna števila"
   ]
  },
  {
   "cell_type": "code",
   "execution_count": 3,
   "id": "5ed8ad40-d6a2-4c39-b7fe-b19d5d071f36",
   "metadata": {},
   "outputs": [
    {
     "data": {
      "text/plain": [
       "array([1, 2, 3, 4])"
      ]
     },
     "execution_count": 3,
     "metadata": {},
     "output_type": "execute_result"
    }
   ],
   "source": [
    "A_int"
   ]
  },
  {
   "cell_type": "code",
   "execution_count": 4,
   "id": "ade2caf6-2b2c-4a8b-8b1f-f7fe0f11efdd",
   "metadata": {},
   "outputs": [
    {
     "data": {
      "text/plain": [
       "array([1., 2., 3., 4.])"
      ]
     },
     "execution_count": 4,
     "metadata": {},
     "output_type": "execute_result"
    }
   ],
   "source": [
    "A_float"
   ]
  },
  {
   "cell_type": "code",
   "execution_count": 5,
   "id": "c46a8073-00f1-4595-b545-d174221a6cb6",
   "metadata": {},
   "outputs": [
    {
     "name": "stdout",
     "output_type": "stream",
     "text": [
      "a: range(0, 15) , list(a): [0, 1, 2, 3, 4, 5, 6, 7, 8, 9, 10, 11, 12, 13, 14]\n"
     ]
    }
   ],
   "source": [
    "# primer pyton niza kot seznam\n",
    "\n",
    "a = range(15)\n",
    "print('a:', a, ', list(a):', list(a))"
   ]
  },
  {
   "cell_type": "code",
   "execution_count": 6,
   "id": "18b9e4f7-3d3f-478f-a269-4d3aa6cf5557",
   "metadata": {},
   "outputs": [
    {
     "name": "stdout",
     "output_type": "stream",
     "text": [
      "A: [ 0  1  2  3  4  5  6  7  8  9 10 11 12 13 14]\n"
     ]
    }
   ],
   "source": [
    "# castanje python list v numpy array\n",
    "\n",
    "A = np.array(a)\n",
    "print('A:', A)"
   ]
  },
  {
   "cell_type": "code",
   "execution_count": 7,
   "id": "68fcc692-e1b6-4cf2-bc56-5acb3ee24153",
   "metadata": {},
   "outputs": [
    {
     "name": "stdout",
     "output_type": "stream",
     "text": [
      "A: [[ 0  1  2  3  4]\n",
      " [ 5  6  7  8  9]\n",
      " [10 11 12 13 14]]\n"
     ]
    }
   ],
   "source": [
    "# kreiranje 2D niza\n",
    "\n",
    "r = 3 # number of rows\n",
    "c = 5 # number of columns\n",
    "A = np.arange(r*c).reshape(r,c)\n",
    "print('A:', A)"
   ]
  },
  {
   "cell_type": "code",
   "execution_count": 8,
   "id": "4ca69d64-02af-4710-8695-b772fffdd88a",
   "metadata": {},
   "outputs": [
    {
     "name": "stdout",
     "output_type": "stream",
     "text": [
      "Az: [0. 0. 0. 0. 0. 0. 0. 0. 0. 0.]\n",
      "Ao: [1. 1. 1. 1. 1. 1. 1. 1. 1. 1.]\n",
      "A: [[1. 1. 1. 1. 1. 1. 1. 1. 1. 1.]\n",
      " [1. 1. 1. 1. 1. 1. 1. 1. 1. 1.]\n",
      " [1. 1. 1. 1. 1. 1. 1. 1. 1. 1.]]\n",
      "x: [ 0.   0.5  1.   1.5  2.   2.5  3.   3.5  4.   4.5  5.   5.5  6.   6.5\n",
      "  7.   7.5  8.   8.5  9.   9.5 10. ]\n"
     ]
    }
   ],
   "source": [
    "# izdelava posebnih nizov (pazi, vse so decimalna števila!)\n",
    "\n",
    "# ničle vektor \n",
    "Az = np.zeros(10)\n",
    "print('Az:', Az)\n",
    "\n",
    "# enice vektor\n",
    "Ao = np.ones(10)\n",
    "print('Ao:', Ao)\n",
    "\n",
    "# enice matrika\n",
    "A = np.ones((3,10))\n",
    "print('A:', A)\n",
    "\n",
    "# ekvidistantno porazdeljena števila\n",
    "# linspace(start,end, number_of_divisons)\n",
    "x = np.linspace(0,10,21)\n",
    "print('x:', x)"
   ]
  },
  {
   "cell_type": "code",
   "execution_count": 9,
   "id": "de6fa0bb-b49b-4c3f-a91e-02b3586bfd5b",
   "metadata": {},
   "outputs": [
    {
     "name": "stdout",
     "output_type": "stream",
     "text": [
      "t: [0.         0.62831853 1.25663706 1.88495559 2.51327412 3.14159265\n",
      " 3.76991118 4.39822972 5.02654825 5.65486678 6.28318531]\n",
      "y: [ 1.          0.80901699  0.30901699 -0.30901699 -0.80901699 -1.\n",
      " -0.80901699 -0.30901699  0.30901699  0.80901699  1.        ]\n"
     ]
    }
   ],
   "source": [
    "t = np.linspace(0, 2*np.pi, 11)\n",
    "y = np.cos(t)\n",
    "\n",
    "print('t:', t)\n",
    "print('y:', y)"
   ]
  },
  {
   "cell_type": "markdown",
   "id": "793e4ca8-d8df-4577-9d8d-a5bfe6ab7a90",
   "metadata": {},
   "source": [
    "Do tukaj smo spoznali, kako izdelamo poljuben numpy array. Kako pa sedaj dostopamo do podatkov znotraj arraya?\n",
    "\n",
    "Podatki v array so indeksirani, kar pomeni, da lahko dostopamo do njih z indeksom, ki se **vedno prične z 0!** (matlab prične z 1!)"
   ]
  },
  {
   "cell_type": "code",
   "execution_count": 10,
   "id": "f25ed6df-20b8-4c7b-9382-9f14bf8e0ea1",
   "metadata": {},
   "outputs": [
    {
     "name": "stdout",
     "output_type": "stream",
     "text": [
      "izpis s pomočjo indeksa\n",
      "x[0] = 1.00\n",
      "x[1] = 2.50\n",
      "x[2] = 4.00\n",
      "x[3] = 5.50\n",
      "x[4] = 7.00\n",
      "x[5] = 8.50\n",
      "x[6] = 10.00\n",
      "\n",
      "izpis s pomočjo niza\n",
      "x[i] = 1.000\n",
      "x[i] = 2.500\n",
      "x[i] = 4.000\n",
      "x[i] = 5.500\n",
      "x[i] = 7.000\n",
      "x[i] = 8.500\n",
      "x[i] = 10.000\n"
     ]
    }
   ],
   "source": [
    "nn = 7\n",
    "x0 = 1\n",
    "x1 = 10\n",
    "x = np.linspace(x0,x1,nn)\n",
    "\n",
    "print('izpis s pomočjo indeksa')\n",
    "for i in range(nn):\n",
    "    print('x[{:d}] = {:.2f}'.format(i, x[i]))\n",
    "\n",
    "print()\n",
    "print('izpis s pomočjo niza')\n",
    "for xi in x:\n",
    "    print('x[i] = {:.3f}'.format(xi))"
   ]
  },
  {
   "cell_type": "markdown",
   "id": "fb8789f3-a806-451d-9b40-f2febfd3e9e2",
   "metadata": {},
   "source": [
    "Do podatkov dostopamo s pomočjo ogletga oklepaja `x[i]`. Enako lahko dostopamo do podniza podatkov."
   ]
  },
  {
   "cell_type": "code",
   "execution_count": 11,
   "id": "3324ca5e-bf88-4ad4-b9ac-580fd05c263f",
   "metadata": {},
   "outputs": [
    {
     "name": "stdout",
     "output_type": "stream",
     "text": [
      "x: [ 1.          1.31034483  1.62068966  1.93103448  2.24137931  2.55172414\n",
      "  2.86206897  3.17241379  3.48275862  3.79310345  4.10344828  4.4137931\n",
      "  4.72413793  5.03448276  5.34482759  5.65517241  5.96551724  6.27586207\n",
      "  6.5862069   6.89655172  7.20689655  7.51724138  7.82758621  8.13793103\n",
      "  8.44827586  8.75862069  9.06896552  9.37931034  9.68965517 10.        ]\n",
      "x[a:b] = [1.93103448 2.24137931 2.55172414 2.86206897]\n"
     ]
    }
   ],
   "source": [
    "nn = 30\n",
    "x0 = 1\n",
    "x1 = 10\n",
    "x = np.linspace(x0,x1,nn)\n",
    "print('x:', x)\n",
    "\n",
    "# podniz na intervalu a-b\n",
    "a = 3\n",
    "b = 7\n",
    "print('x[a:b] = {:}'.format(x[a:b]))"
   ]
  },
  {
   "cell_type": "markdown",
   "id": "34169ed6-a75f-4cf8-a9e7-00e0ce244473",
   "metadata": {},
   "source": [
    "V primeru, ko imamo v nizu podatke o času in višini vala, dostopamo pa s kombinacijo indeksov"
   ]
  },
  {
   "cell_type": "code",
   "execution_count": 12,
   "id": "aa3ff77f-a37d-415f-89bf-9b00a1861b79",
   "metadata": {},
   "outputs": [
    {
     "name": "stdout",
     "output_type": "stream",
     "text": [
      "th: [[0.81767384 0.55836846]\n",
      " [0.92032676 0.2584875 ]\n",
      " [0.99694168 0.03239757]\n",
      " [0.48258453 0.6104609 ]\n",
      " [0.44345526 0.85479363]\n",
      " [0.53544685 0.83435221]\n",
      " [0.6638723  0.83941305]\n",
      " [0.54289533 0.71060203]\n",
      " [0.23603196 0.45759572]\n",
      " [0.83019261 0.24773451]]\n",
      "čas in višina meritve vala (i=6): [0.6638723  0.83941305]\n"
     ]
    }
   ],
   "source": [
    "th = np.random.rand(10,2)\n",
    "\n",
    "print('th:', th)\n",
    "i = 6\n",
    "print('čas in višina meritve vala (i={:d}): {:}'.format(i,th[i])) "
   ]
  },
  {
   "cell_type": "code",
   "execution_count": 13,
   "id": "c8160a2c-0f46-4e2f-ac9d-e9177b5b0f49",
   "metadata": {},
   "outputs": [
    {
     "name": "stdout",
     "output_type": "stream",
     "text": [
      "izpis samo časa:\n",
      " [0.81767384 0.92032676 0.99694168 0.48258453 0.44345526 0.53544685\n",
      " 0.6638723  0.54289533 0.23603196 0.83019261]\n",
      "\n",
      "izpis samo višin:\n",
      " [0.55836846 0.2584875  0.03239757 0.6104609  0.85479363 0.83435221\n",
      " 0.83941305 0.71060203 0.45759572 0.24773451]\n",
      "\n",
      "izpis samo višin od 3 do 6:\n",
      " [0.6104609  0.85479363 0.83435221]\n",
      "\n",
      "Transponiranje tabele:\n",
      " [[0.81767384 0.92032676 0.99694168 0.48258453 0.44345526 0.53544685\n",
      "  0.6638723  0.54289533 0.23603196 0.83019261]\n",
      " [0.55836846 0.2584875  0.03239757 0.6104609  0.85479363 0.83435221\n",
      "  0.83941305 0.71060203 0.45759572 0.24773451]]\n",
      "\n",
      "Izpis časa iz transponirane tabele:\n",
      " [0.81767384 0.92032676 0.99694168 0.48258453 0.44345526 0.53544685\n",
      " 0.6638723  0.54289533 0.23603196 0.83019261]\n"
     ]
    }
   ],
   "source": [
    "print('izpis samo časa:\\n', th[:,0])\n",
    "print('\\nizpis samo višin:\\n', th[:,1])\n",
    "\n",
    "a = 3\n",
    "b = 6\n",
    "print('\\nizpis samo višin od {:d} do {:d}:\\n {:}'.format(a, b, th[a:b,1]))\n",
    "\n",
    "print('\\nTransponiranje tabele:\\n', th.T)\n",
    "\n",
    "print('\\nIzpis časa iz transponirane tabele:\\n', th.T[0])"
   ]
  },
  {
   "cell_type": "markdown",
   "id": "07350b52-9c76-4914-8ee8-9a2269e2b8f1",
   "metadata": {},
   "source": [
    "Nad numpy array lahko uporabimo katero koli matematično funkcijo: $\\sin x$, $\\cos x$, $\\exp x = e^x$, $\\dots$\n",
    "\n",
    "Tukaj moramo biti pazljivi in uporabit **numpy funkcije**:\n",
    "- $\\sin x$: `np.sin(x)`\n",
    "- $\\cos x$: `np.cos(x)`\n",
    "- $\\exp x$: `np.exp(x)`\n",
    "- $\\dots$\n",
    "\n",
    "ki delujejo nad `np.array` in vrnejo array iste velikosti."
   ]
  },
  {
   "cell_type": "code",
   "execution_count": 14,
   "id": "f1b4aec0-a619-4448-b698-b022c90a610e",
   "metadata": {},
   "outputs": [],
   "source": [
    "x = np.linspace(0,2*np.pi,20)\n",
    "sin_x = np.sin(x)\n",
    "cos_x = np.cos(x)\n",
    "pow_x = x**3.5 # potenciranje x na 3.5"
   ]
  },
  {
   "cell_type": "markdown",
   "id": "859807b1-76bb-4f1c-a508-0682e2951ebf",
   "metadata": {},
   "source": [
    "<u>Primerjava med `math` in `numpy` okoljem</u>\n",
    "\n",
    "Recimo module `math` deluje samo nad skalarji, to je števili."
   ]
  },
  {
   "cell_type": "code",
   "execution_count": 15,
   "id": "8afb39c6-3dd3-4999-8c1d-9f3f63ff0ec2",
   "metadata": {},
   "outputs": [
    {
     "ename": "TypeError",
     "evalue": "only size-1 arrays can be converted to Python scalars",
     "output_type": "error",
     "traceback": [
      "\u001b[0;31m---------------------------------------------------------------------------\u001b[0m",
      "\u001b[0;31mTypeError\u001b[0m                                 Traceback (most recent call last)",
      "\u001b[0;32m/tmp/ipykernel_36518/573818116.py\u001b[0m in \u001b[0;36m<module>\u001b[0;34m\u001b[0m\n\u001b[1;32m      5\u001b[0m \u001b[0;34m\u001b[0m\u001b[0m\n\u001b[1;32m      6\u001b[0m \u001b[0mx\u001b[0m \u001b[0;34m=\u001b[0m \u001b[0mnp\u001b[0m\u001b[0;34m.\u001b[0m\u001b[0mlinspace\u001b[0m\u001b[0;34m(\u001b[0m\u001b[0;36m0\u001b[0m\u001b[0;34m,\u001b[0m\u001b[0;36m2\u001b[0m\u001b[0;34m*\u001b[0m\u001b[0mnp\u001b[0m\u001b[0;34m.\u001b[0m\u001b[0mpi\u001b[0m\u001b[0;34m,\u001b[0m\u001b[0;36m20\u001b[0m\u001b[0;34m)\u001b[0m\u001b[0;34m\u001b[0m\u001b[0;34m\u001b[0m\u001b[0m\n\u001b[0;32m----> 7\u001b[0;31m \u001b[0msin_x\u001b[0m \u001b[0;34m=\u001b[0m \u001b[0mmat\u001b[0m\u001b[0;34m.\u001b[0m\u001b[0msin\u001b[0m\u001b[0;34m(\u001b[0m\u001b[0mx\u001b[0m\u001b[0;34m)\u001b[0m \u001b[0;31m# se ujame v napako, ker dela nad nizom števil\u001b[0m\u001b[0;34m\u001b[0m\u001b[0;34m\u001b[0m\u001b[0m\n\u001b[0m",
      "\u001b[0;31mTypeError\u001b[0m: only size-1 arrays can be converted to Python scalars"
     ]
    }
   ],
   "source": [
    "import math as mat\n",
    "\n",
    "x = 10\n",
    "sin_x = mat.sin(x)\n",
    "\n",
    "x = np.linspace(0,2*np.pi,20)\n",
    "sin_x = mat.sin(x) # se ujame v napako, ker dela nad nizom števil"
   ]
  },
  {
   "cell_type": "markdown",
   "id": "33f634b9-d207-4278-a7bc-47558582a76a",
   "metadata": {
    "tags": []
   },
   "source": [
    "---\n",
    "### **MathPlotLib** knjižnjica\n",
    "\n",
    "**[Matplotlib](https://matplotlib.org)** omogoča izris vseh 2D tipov diagramov. Enako omogoča izris točk, linij ter površin v 3D.\n",
    "\n",
    "Spoznali bomo le osnovni nabor ukazov za izris 2D diagramov."
   ]
  },
  {
   "cell_type": "code",
   "execution_count": 16,
   "id": "d2a4d453-0554-4df8-bff3-4ea17db2a890",
   "metadata": {},
   "outputs": [],
   "source": [
    "import math as mat\n",
    "import numpy as np\n",
    "import matplotlib.pyplot as mpl # knjižnjica za plot\n",
    "\n",
    "# MatPlotLib set fonts\n",
    "mpl.rcParams['font.family'] = 'serif'\n",
    "mpl.rcParams['font.serif'] = ['DejaVu Serif']\n",
    "\n",
    "# MatPlotLib set LaTeX use\n",
    "mpl.rcParams['text.usetex'] = True\n",
    "mpl.rcParams['text.latex.preamble'] = r'\\usepackage{siunitx}'"
   ]
  },
  {
   "cell_type": "code",
   "execution_count": 17,
   "id": "9018ab00-6b1d-4935-9f06-b65901b9e29f",
   "metadata": {},
   "outputs": [],
   "source": [
    "x = np.linspace(-2*mat.pi, 2*mat.pi, 100)\n",
    "sin_x = np.sin(x)\n",
    "cos_x = np.cos(x)"
   ]
  },
  {
   "cell_type": "code",
   "execution_count": 18,
   "id": "a01223a7-7f56-43a2-8fbc-8318b0ba7878",
   "metadata": {},
   "outputs": [
    {
     "data": {
      "image/png": "[encoded data removed]",
      "text/plain": [
       "<Figure size 432x288 with 1 Axes>"
      ]
     },
     "metadata": {
      "needs_background": "light"
     },
     "output_type": "display_data"
    }
   ],
   "source": [
    "fig, ax = mpl.subplots() # rezerviramo plot\n",
    "fig.suptitle(r'Plot test - 01') # naslov plota, lahko brez\n",
    "\n",
    "ax.plot(x,sin_x)\n",
    "ax.set_xlabel('$x$')\n",
    "ax.set_ylabel('$y=\\sin x$')\n",
    "ax.grid()\n",
    "fig.savefig('plot_test_01.pdf')"
   ]
  },
  {
   "cell_type": "code",
   "execution_count": 19,
   "id": "bfb49062-0d34-48a0-9258-ce3ae7529979",
   "metadata": {},
   "outputs": [
    {
     "data": {
      "image/png": "[encoded data removed]",
      "text/plain": [
       "<Figure size 432x288 with 1 Axes>"
      ]
     },
     "metadata": {
      "needs_background": "light"
     },
     "output_type": "display_data"
    }
   ],
   "source": [
    "fig, ax = mpl.subplots() # rezerviramo plot\n",
    "fig.suptitle(r'Plot test - 02') # naslov plota, lahko brez\n",
    "\n",
    "ax.plot(x,sin_x, label=r'$\\sin(x)$', color='red')\n",
    "ax.plot(x,cos_x, label=r'$\\cos(x)$', color='green', linestyle='-.')\n",
    "ax.set_xlabel('$x$')\n",
    "ax.set_ylabel('$y=f(x)$')\n",
    "ax.legend()\n",
    "ax.grid()\n",
    "fig.savefig('plot_test_02.pdf')"
   ]
  },
  {
   "cell_type": "code",
   "execution_count": 20,
   "id": "0918f161-a031-42b4-992d-c4bdb91d10d9",
   "metadata": {},
   "outputs": [
    {
     "data": {
      "image/png": "[encoded data removed]",
      "text/plain": [
       "<Figure size 432x288 with 2 Axes>"
      ]
     },
     "metadata": {
      "needs_background": "light"
     },
     "output_type": "display_data"
    }
   ],
   "source": [
    "fig, ax = mpl.subplots(2) # rezerviramo plot za 2\n",
    "fig.suptitle(r'Plot test - 03') # naslov plota, lahko brez\n",
    "\n",
    "ax[0].plot(x,sin_x, color='red')\n",
    "ax[0].set_xticklabels([])\n",
    "ax[0].set_ylabel('$\\sin(x)$')\n",
    "ax[0].grid()\n",
    "\n",
    "ax[1].plot(x,cos_x, color='green')\n",
    "ax[1].set_xlabel('$x$')\n",
    "ax[1].set_ylabel('$\\cos(x)$')\n",
    "ax[1].grid()\n",
    "\n",
    "fig.savefig('plot_test_03.pdf')"
   ]
  },
  {
   "cell_type": "markdown",
   "id": "9f9839c4-d908-4bd3-83e8-b666722eb548",
   "metadata": {},
   "source": [
    "Primer, kjer spremenimo oznake na oseh, recimo na $x$-osi spremenimo številke v frakcije števila $\\pi$, si lahko pogledate pod\n",
    "\n",
    "`00_python_utils/plotting_styles.ipynb`"
   ]
  },
  {
   "cell_type": "code",
   "execution_count": null,
   "id": "163b349a-c546-4d7c-9d36-e492f4f116c7",
   "metadata": {},
   "outputs": [],
   "source": []
  }
 ],
 "metadata": {
  "kernelspec": {
   "display_name": "Conda-MATH",
   "language": "python",
   "name": "computation"
  },
  "language_info": {
   "codemirror_mode": {
    "name": "ipython",
    "version": 3
   },
   "file_extension": ".py",
   "mimetype": "text/x-python",
   "name": "python",
   "nbconvert_exporter": "python",
   "pygments_lexer": "ipython3",
   "version": "3.9.7"
  }
 },
 "nbformat": 4,
 "nbformat_minor": 5
}
