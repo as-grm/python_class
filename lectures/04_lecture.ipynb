{
 "cells": [
  {
   "cell_type": "markdown",
   "id": "35c87c32-152c-44c3-a554-0635d26042d7",
   "metadata": {},
   "source": [
    "# Uvod v Python\n",
    "\n",
    "## Lecture - 04\n",
    "\n",
    "Vsebina:\n",
    "- uporaba funkcij\n",
    "- uporaba lastnih modulov/paketov"
   ]
  },
  {
   "cell_type": "markdown",
   "id": "bfd669e3-458b-4466-9eda-045998c3ad58",
   "metadata": {},
   "source": [
    "---\n",
    "### **Uporaba funkcij**\n",
    "\n",
    "Funkcije v Python okolju definiramo z ukazom `def`. Funkcija ima lahko vhodne parametre in vrne določen rezultat. Na takšen način lahko strukturirano ločimo med seboj različne segmente programa.\n",
    "\n",
    "V **Jupyter-Notebook** okolju vsako funkcijo zapišemo v lastno celico. Ko se posodobi funkcija, je enako potrebno posdobit vsebino celice!\n"
   ]
  },
  {
   "cell_type": "code",
   "execution_count": 1,
   "id": "792d7313-70f5-4281-978f-eb130c70c7fa",
   "metadata": {},
   "outputs": [],
   "source": [
    "# primer funkcije, ki nekaj izpiše\n",
    "\n",
    "def izpis_test(besedilo):\n",
    "    \n",
    "    print('To je test izpisa besedila')\n",
    "    print(' -> besedilo:', besedilo)"
   ]
  },
  {
   "cell_type": "code",
   "execution_count": 2,
   "id": "4b3bf22c-c977-420d-930a-e5f49d50d319",
   "metadata": {},
   "outputs": [
    {
     "name": "stdout",
     "output_type": "stream",
     "text": [
      "To je test izpisa besedila\n",
      " -> besedilo: To je moja prva uporaba funkcije v Python okolju!\n"
     ]
    }
   ],
   "source": [
    "text = 'To je moja prva uporaba funkcije v Python okolju!'\n",
    "izpis_test(text)"
   ]
  },
  {
   "cell_type": "markdown",
   "id": "42625850-5c22-4e78-91e3-9bf326fef062",
   "metadata": {},
   "source": [
    "Kot je vidno, smo funkcijo `izpis_test` poklicali z enim vhodnim parametrom, ki se nahaja znotraj oklepaja. Kar se nahaja znotraj oklepaja imenujemo **vhodni parametri** in jih je lahko poljubno mnogo. Parametrom lahko dodamo tudi **privzete** vrednosti."
   ]
  },
  {
   "cell_type": "code",
   "execution_count": 3,
   "id": "fbb05c80-2d80-4611-9932-1c2df5bd02e0",
   "metadata": {},
   "outputs": [],
   "source": [
    "def sestej(x,y=10):\n",
    "    return x+y"
   ]
  },
  {
   "cell_type": "code",
   "execution_count": 4,
   "id": "bb577544-6c75-46d9-87d2-b6b73494b472",
   "metadata": {},
   "outputs": [
    {
     "name": "stdout",
     "output_type": "stream",
     "text": [
      "s1: 15\n",
      "s2: 20\n"
     ]
    }
   ],
   "source": [
    "x = 5\n",
    "y = 15\n",
    "\n",
    "s1 = sestej(x)\n",
    "print('s1:', s1)\n",
    "\n",
    "s2 = sestej(x,y)\n",
    "print('s2:', s2)"
   ]
  },
  {
   "cell_type": "markdown",
   "id": "5a037e9a-85d6-45ab-83d5-3a303cfbb143",
   "metadata": {},
   "source": [
    "Zgornji primer kaže uporabo ukaza `return`, ki vrne nekaj nazaj iz funkcije. To so **izhodni parametri** funkcije. Kakor v MatLabu lahko vrnemo več stvari hkrati v obliki seznama."
   ]
  },
  {
   "cell_type": "code",
   "execution_count": 5,
   "id": "955d0ff3-b59f-4948-a374-44478cf952ae",
   "metadata": {},
   "outputs": [],
   "source": [
    "def comput(x,y):\n",
    "    \n",
    "    s = x + y\n",
    "    d = x - y\n",
    "    m = x * y\n",
    "    r = x / y\n",
    "    \n",
    "    return [s,d,m,r]"
   ]
  },
  {
   "cell_type": "code",
   "execution_count": 6,
   "id": "5a604a61-fa2e-420d-9cef-935c6f6f42cf",
   "metadata": {},
   "outputs": [
    {
     "name": "stdout",
     "output_type": "stream",
     "text": [
      "ll: [30, -10, 200, 0.5]\n",
      "s: 30\n",
      "d: -10\n",
      "m: 200\n",
      "r: 0.5\n"
     ]
    }
   ],
   "source": [
    "x = 10\n",
    "y = 20\n",
    "\n",
    "ll = comput(x,y)\n",
    "print('ll:', ll)\n",
    "\n",
    "[s,d,m,r] = comput(x,y)\n",
    "print('s:', s)\n",
    "print('d:', d)\n",
    "print('m:', m)\n",
    "print('r:', r)"
   ]
  },
  {
   "cell_type": "markdown",
   "id": "f8cb5f83-c336-4e26-b675-862fbbef7729",
   "metadata": {},
   "source": [
    "---\n",
    "\n",
    "### **Uporaba lastnih modulov/paketov**\n",
    "\n",
    "Vsi moduli ali paketi se nahajajov v eni datoteki, ki ima končnico *.py* Tako naš paket naslovimo direkt z njegovim imenom datoteke in ga lahko kasneje kličemo.\n",
    "\n",
    "Primer je modul **myplotlib.py**, ki vsebuje funkcijo `my_plot(...)` z nekaj parametri, ki izriše podatke in zapiše ustrezna besedila na diagram.\n",
    "\n",
    "**POMEMBNO**\n",
    "\n",
    "Kadar koli spremenite v modulu, je potrebno ponovno naložiti modul. V našem primeru, ker delamo v *jupyter-notebook* okolju, moramo ponovno zagnati kernel (*Restart the Kernel*), ker se modul z klicem *import* ne naloži ponovno! "
   ]
  },
  {
   "cell_type": "code",
   "execution_count": 7,
   "id": "1254466b-3f50-4899-831a-d4ae4eacd9fd",
   "metadata": {},
   "outputs": [
    {
     "data": {
      "image/png": "[encoded data removed]",
      "text/plain": [
       "<Figure size 432x288 with 1 Axes>"
      ]
     },
     "metadata": {
      "needs_background": "light"
     },
     "output_type": "display_data"
    }
   ],
   "source": [
    "import myplotlib as mp\n",
    "\n",
    "x = [1, 2, 3, 4, 5, 6, 7, 8, 9, 10]\n",
    "y = [2, 3, -1, -7, 4, 5, 3, 6, -2, 0]\n",
    "title = 'Naslov grafa'\n",
    "x_label = 'x-os'\n",
    "y_label = 'y-os'\n",
    "fn = 'my_test_plot'\n",
    "\n",
    "mp.my_plot(x,y,title,x_label,y_label,fn)"
   ]
  },
  {
   "cell_type": "code",
   "execution_count": null,
   "id": "1b4864f5-56e8-4b67-ae0d-2d9c5b87a404",
   "metadata": {},
   "outputs": [],
   "source": []
  }
 ],
 "metadata": {
  "kernelspec": {
   "display_name": "Conda-MATH",
   "language": "python",
   "name": "computation"
  },
  "language_info": {
   "codemirror_mode": {
    "name": "ipython",
    "version": 3
   },
   "file_extension": ".py",
   "mimetype": "text/x-python",
   "name": "python",
   "nbconvert_exporter": "python",
   "pygments_lexer": "ipython3",
   "version": "3.9.7"
  }
 },
 "nbformat": 4,
 "nbformat_minor": 5
}
