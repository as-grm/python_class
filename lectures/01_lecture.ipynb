{
 "cells": [
  {
   "cell_type": "markdown",
   "id": "737d1c8e-0c81-46b3-b380-28d345974224",
   "metadata": {},
   "source": [
    "# Uvod v Python\n",
    "\n",
    "## Lecture - 01\n",
    "\n",
    "Vsebina:\n",
    "- nalaganje paketov\n",
    "- osnovne podatkovne strukture\n",
    "- izpis količin"
   ]
  },
  {
   "cell_type": "markdown",
   "id": "12f5795f-b559-45df-bb0c-b9f536d60129",
   "metadata": {
    "tags": []
   },
   "source": [
    "---\n",
    "\n",
    "### Nalaganje novih paketov/knjižnjic v okolje\n",
    "\n",
    "V Python okolju imamo osnovni sistem, ki ga nato dogradimo z uporabo zunanjih paketov ali knjižnjic.\n",
    "\n",
    "Dodatne knjižnjice nalagamo z uporabo ukazov\n",
    "\n",
    "`import package_name`\n",
    "\n",
    "ali za uporabo samo specifičnega orodja iz določenega paketa \n",
    "\n",
    "`from package_name import tool`\n",
    "\n",
    "Paketom lahko dodamo naš alias z\n",
    "\n",
    "`import package_name as alias`"
   ]
  },
  {
   "cell_type": "code",
   "execution_count": 1,
   "id": "bc87a0b8-8af3-41b3-a158-e0a6b7fbf1cd",
   "metadata": {},
   "outputs": [],
   "source": [
    "# primer\n",
    "\n",
    "import math as mat\n",
    "import numpy as np\n",
    "from random import gauss"
   ]
  },
  {
   "cell_type": "markdown",
   "id": "f7fdc495-81ba-4aa3-a787-6586189441a6",
   "metadata": {},
   "source": [
    "Sedaj naložimo število $\\pi$ iz matematične knjižnjice in ga izpišemo z uporabo **print()** ukaza"
   ]
  },
  {
   "cell_type": "code",
   "execution_count": 2,
   "id": "ce30a6ef-bb2f-4386-80bf-7271295e5a62",
   "metadata": {},
   "outputs": [
    {
     "name": "stdout",
     "output_type": "stream",
     "text": [
      "število pi: 3.141592653589793\n"
     ]
    }
   ],
   "source": [
    "pi = mat.pi\n",
    "print('število pi:', pi)"
   ]
  },
  {
   "cell_type": "markdown",
   "id": "d2710da3-9316-444b-955e-b89424da9b86",
   "metadata": {},
   "source": [
    "---\n",
    "\n",
    "### Osnovne podatkovne strukture\n",
    "\n",
    "Osnovne podatkovn strukture so:\n",
    "- *character*: znak\n",
    "- *byte*: 8bitni znak\n",
    "- *string*: besedilo\n",
    "- *integer*: celo število\n",
    "- *float*: decimalno število\n",
    "- *list*: seznam\n",
    "- *dictionary*: seznam s ključem\n",
    "\n",
    "V numerični knjižnjici **NumPy** pa imamo še:\n",
    "- *array*: več dimenzionalna tabela\n",
    "\n",
    "Za celoten opis osnovnih podatkovnih struktur si poglejte na stran **[Python Standard Types](https://docs.python.org/3/library/stdtypes.html)**"
   ]
  },
  {
   "cell_type": "code",
   "execution_count": 3,
   "id": "934214d5-fe91-4f8a-ab58-73a5a89d709e",
   "metadata": {},
   "outputs": [],
   "source": [
    "char = 'a'\n",
    "string = 'Python is fun!' # vedno v UTF-8 formatu\n",
    "byte_message = bytes(string, 'utf-8')\n",
    "int_n = 1\n",
    "float_n = 0.023 # ali zapisano eksponentom 2.3e-2\n",
    "list_n = [1,2,3,4,5,6] # seznam števil\n",
    "lista_s = ['Miha', 'Janez', 'Tone', 'Lišček'] # seznam stringov\n",
    "dict_n = {'avto':['suszuki','bmw','audi'],'starost':[1,2,3,4],'ocena':['negativno','zadostno','dobro','zelo dobro', 'odlično']}\n",
    "\n",
    "# NumPy\n",
    "vec = np.array([1,2,3,4,5,6], dtype=np.float_)\n",
    "vv = np.zeros(10)\n",
    "x = np.linspace(0,1,10)"
   ]
  },
  {
   "cell_type": "markdown",
   "id": "64686680-ec61-4944-9a23-3d980f38eb36",
   "metadata": {},
   "source": [
    "Operacije med količinami"
   ]
  },
  {
   "cell_type": "code",
   "execution_count": 4,
   "id": "8524cac7-3832-4656-9bdb-6ed55dfcfb81",
   "metadata": {},
   "outputs": [
    {
     "name": "stdout",
     "output_type": "stream",
     "text": [
      "c=3\n"
     ]
    }
   ],
   "source": [
    "a = 1\n",
    "b = 2\n",
    "c = a + b\n",
    "print('c={:}'.format(c))"
   ]
  },
  {
   "cell_type": "code",
   "execution_count": 5,
   "id": "1feb372a-5d37-4ac6-ab34-a8518bd4bc01",
   "metadata": {},
   "outputs": [
    {
     "name": "stdout",
     "output_type": "stream",
     "text": [
      "name: Jure Demšar\n"
     ]
    }
   ],
   "source": [
    "s1 = 'Jure'\n",
    "s2 = ' '\n",
    "s3 = 'Demšar'\n",
    "name = s1 + s2 + s3\n",
    "print('name:', name)"
   ]
  },
  {
   "cell_type": "code",
   "execution_count": 6,
   "id": "30e63020-27ce-4b9b-a908-707016348cb6",
   "metadata": {},
   "outputs": [
    {
     "name": "stdout",
     "output_type": "stream",
     "text": [
      "{'avto': ['suszuki', 'bmw', 'audi'], 'starost': [1, 2, 3, 4], 'ocena': ['negativno', 'zadostno', 'dobro', 'zelo dobro', 'odlično']}\n"
     ]
    }
   ],
   "source": [
    "print(dict_n)"
   ]
  },
  {
   "cell_type": "code",
   "execution_count": 7,
   "id": "bc90cf29-3a78-4f80-95d9-c55a9ffbc325",
   "metadata": {},
   "outputs": [
    {
     "name": "stdout",
     "output_type": "stream",
     "text": [
      "['suszuki', 'bmw', 'audi']\n"
     ]
    }
   ],
   "source": [
    "print(dict_n['avto'])"
   ]
  },
  {
   "cell_type": "code",
   "execution_count": 8,
   "id": "e312d0ee-5d52-4409-8406-4a2da1d48604",
   "metadata": {},
   "outputs": [
    {
     "name": "stdout",
     "output_type": "stream",
     "text": [
      "število avtov v seznamu: 3\n",
      " -> avto(1): suszuki\n",
      " -> avto(2): bmw\n",
      " -> avto(3): audi\n"
     ]
    }
   ],
   "source": [
    "nn = len(dict_n['avto'])\n",
    "print('število avtov v seznamu:',nn)\n",
    "k = 1\n",
    "for car in dict_n['avto']:\n",
    "    print(' -> avto({:}): {:}'.format(k,car))\n",
    "    k += 1"
   ]
  },
  {
   "cell_type": "markdown",
   "id": "ccbd655a-069b-4088-bf4e-61d0604a8665",
   "metadata": {},
   "source": [
    "---\n",
    "\n",
    "### Izpis količin s pomočjo ukaza **print** in **format**\n",
    "\n",
    "Pri formatiranem izpisu uporabimo formatiran izpis za string, kjer imamo sledeče tipe:\n",
    "- d: integer\n",
    "- f: float\n",
    "- s: string\n",
    "\n",
    "tako lahko vpisujemo v predpisano obliko različne vrednosti.\n",
    "\n",
    "Predpisana oblika:\n",
    "\n",
    "`'Avto št. {:d} ima registrsko tablico {:s} in moč motorja {:.2f} kW'.format(5,'GO AK-517',75.8765)`\n",
    "\n",
    "Tako smo predpisani obliki dodali vrednosti znotraj teksta."
   ]
  },
  {
   "cell_type": "code",
   "execution_count": 9,
   "id": "535474cd-d58e-40fe-89ec-bdfad3c74790",
   "metadata": {},
   "outputs": [
    {
     "name": "stdout",
     "output_type": "stream",
     "text": [
      "Avto št. 5 ima registrsko tablico GO AK-517 in moč motorja 75.88 kW\n"
     ]
    }
   ],
   "source": [
    "nn = 5\n",
    "plate = 'GO AK-517'\n",
    "power = 75.8765\n",
    "\n",
    "out = 'Avto št. {:d} ima registrsko tablico {:s} in moč motorja {:.2f} kW'.format(nn, plate, power)\n",
    "print(out)"
   ]
  },
  {
   "cell_type": "code",
   "execution_count": 10,
   "id": "abe26d67-2c61-4c23-ae5f-d1c4870ad62f",
   "metadata": {},
   "outputs": [
    {
     "name": "stdout",
     "output_type": "stream",
     "text": [
      "leading zeros: 00003\n",
      "leading zeros: 00324\n",
      "leading zeros: 01345\n"
     ]
    }
   ],
   "source": [
    "# dodatne ničle spredaj\n",
    "\n",
    "print('leading zeros: {:05d}'.format(3))\n",
    "print('leading zeros: {:05d}'.format(324))\n",
    "print('leading zeros: {:05d}'.format(1345))"
   ]
  },
  {
   "cell_type": "code",
   "execution_count": 11,
   "id": "8ebe9c46-a947-43f4-8967-d731c5b68edb",
   "metadata": {},
   "outputs": [
    {
     "name": "stdout",
     "output_type": "stream",
     "text": [
      "float number: 3.14\n",
      "float number: 3.14159\n",
      "float number: 3.1415926536\n",
      "float number: 3.1415926535897931\n"
     ]
    }
   ],
   "source": [
    "# izpis an določeno število decimalk\n",
    "\n",
    "print('float number: {:.2f}'.format(pi))\n",
    "print('float number: {:.5f}'.format(pi))\n",
    "print('float number: {:.10f}'.format(pi))\n",
    "print('float number: {:.16f}'.format(pi))"
   ]
  },
  {
   "cell_type": "code",
   "execution_count": 12,
   "id": "ec425ddf-b69e-4cae-98ee-3f3dd9377f67",
   "metadata": {},
   "outputs": [
    {
     "name": "stdout",
     "output_type": "stream",
     "text": [
      "float number: 1.28e+01\n",
      "float number: 2.36756e-04\n"
     ]
    }
   ],
   "source": [
    "# izpis na določeno število decimalk z eksponentom\n",
    "\n",
    "print('float number: {:.2e}'.format(12.785645))\n",
    "print('float number: {:.5e}'.format(0.0002367564))"
   ]
  },
  {
   "cell_type": "code",
   "execution_count": null,
   "id": "b405481f-75c1-451c-8699-b9dbf5d032a1",
   "metadata": {},
   "outputs": [],
   "source": []
  }
 ],
 "metadata": {
  "kernelspec": {
   "display_name": "Conda-MATH",
   "language": "python",
   "name": "computation"
  },
  "language_info": {
   "codemirror_mode": {
    "name": "ipython",
    "version": 3
   },
   "file_extension": ".py",
   "mimetype": "text/x-python",
   "name": "python",
   "nbconvert_exporter": "python",
   "pygments_lexer": "ipython3",
   "version": "3.9.7"
  }
 },
 "nbformat": 4,
 "nbformat_minor": 5
}
