{
 "cells": [
  {
   "cell_type": "markdown",
   "id": "35c87c32-152c-44c3-a554-0635d26042d7",
   "metadata": {},
   "source": [
    "# Uvod v Python\n",
    "\n",
    "## Lecture - 03\n",
    "\n",
    "Vsebina:\n",
    "- zanka **FOR** \n",
    "- zanka **WHILE**\n",
    "\n",
    "Podrobnejši opis operacij najdete na strani:\n",
    "\n",
    "- **[Python For Loops](https://www.w3schools.com/python/python_for_loops.asp)**\n",
    "- **[Python While Loops](https://www.w3schools.com/python/python_while_loops.asp)**"
   ]
  },
  {
   "cell_type": "markdown",
   "id": "b9c7663c-36ed-427b-aa96-e8b1bafe418c",
   "metadata": {},
   "source": [
    "---\n",
    "### **FOR zanka**\n",
    "\n",
    "Ta tip zanke je vezana na vnaprej znano število ciklov. Število ciklov je lahko določeno z velikostjo seznama, vektorja ali peprosto naše izbire."
   ]
  },
  {
   "cell_type": "code",
   "execution_count": 1,
   "id": "7deae89a-76b4-47cc-bb3d-807cb88ac2b6",
   "metadata": {},
   "outputs": [
    {
     "name": "stdout",
     "output_type": "stream",
     "text": [
      "aa: [0, 1, 2, 3, 4, 5, 6, 7, 8, 9]\n",
      "bb: [2, 4, 6, 8]\n"
     ]
    }
   ],
   "source": [
    "# Primer uporabe ukaza range(start,stop,step) za določitev zaporedja indeksov\n",
    "\n",
    "aa = range(10) # enako kakor range(0,10,1)\n",
    "bb = range(2,10,2)\n",
    "\n",
    "print('aa:', list(aa))\n",
    "print('bb:', list(bb))"
   ]
  },
  {
   "cell_type": "code",
   "execution_count": 2,
   "id": "8da08709-b74f-455c-8996-1d38b457e927",
   "metadata": {},
   "outputs": [
    {
     "name": "stdout",
     "output_type": "stream",
     "text": [
      "i = 0\n",
      "i = 1\n",
      "i = 2\n",
      "i = 3\n",
      "i = 4\n",
      "i = 5\n",
      "i = 6\n",
      "i = 7\n",
      "i = 8\n",
      "i = 9\n"
     ]
    }
   ],
   "source": [
    "# Primer osnovne for zanke\n",
    "\n",
    "for i in range(10):\n",
    "    print('i = {:d}'.format(i))"
   ]
  },
  {
   "cell_type": "code",
   "execution_count": 3,
   "id": "60932df5-4ed1-430d-8f1a-ef6663dc420d",
   "metadata": {},
   "outputs": [
    {
     "name": "stdout",
     "output_type": "stream",
     "text": [
      "+avto+ 1: BMW\n",
      "*avto* 1: BMW\n",
      "---\n",
      "+avto+ 2: Mercedes\n",
      "*avto* 2: Mercedes\n",
      "---\n",
      "+avto+ 3: Audi\n",
      "*avto* 3: Audi\n",
      "---\n",
      "+avto+ 4: Škoda\n",
      "*avto* 4: Škoda\n",
      "---\n",
      "+avto+ 5: Citroen\n",
      "*avto* 5: Citroen\n",
      "---\n",
      "+avto+ 6: Peugeot\n",
      "*avto* 6: Peugeot\n",
      "---\n",
      "+avto+ 7: Zastava\n",
      "*avto* 7: Zastava\n",
      "---\n"
     ]
    }
   ],
   "source": [
    "# Primer zanke z uporabo seznamov (list)\n",
    "\n",
    "cars = ['BMW','Mercedes','Audi','Škoda','Citroen','Peugeot','Zastava']\n",
    "\n",
    "k = 0\n",
    "for car in cars:\n",
    "    print('+avto+ {:d}: {:s}'.format(k+1,car))\n",
    "    print('*avto* {:d}: {:s}'.format(k+1,cars[k]))\n",
    "    print('---')\n",
    "    k += 1"
   ]
  },
  {
   "cell_type": "code",
   "execution_count": 4,
   "id": "49f0d052-d692-4d61-b848-4a99f03cf153",
   "metadata": {},
   "outputs": [
    {
     "name": "stdout",
     "output_type": "stream",
     "text": [
      "+avto+ 1: BMW\n",
      "*avto* 1: BMW\n",
      "---\n",
      "+avto+ 2: Mercedes\n",
      "*avto* 2: Mercedes\n",
      "---\n",
      "+avto+ 3: Audi\n",
      "*avto* 3: Audi\n",
      "---\n",
      "break at k=3\n"
     ]
    }
   ],
   "source": [
    "# Primer zanke s pogojem za predčasno ustavitev\n",
    "\n",
    "cars = ['BMW','Mercedes','Audi','Škoda','Citroen','Peugeot','Zastava']\n",
    "\n",
    "k = 0\n",
    "for car in cars:\n",
    "    print('+avto+ {:d}: {:s}'.format(k+1,car))\n",
    "    print('*avto* {:d}: {:s}'.format(k+1,cars[k]))\n",
    "    print('---')\n",
    "    k += 1\n",
    "    \n",
    "    if k >= 3:\n",
    "        print('break at k={:d}'.format(k))\n",
    "        break"
   ]
  },
  {
   "cell_type": "markdown",
   "id": "0b61210b-ff12-4390-a924-9bd2d789d8bd",
   "metadata": {},
   "source": [
    "---\n",
    "\n",
    "### **WHILE zanka**\n",
    "\n",
    "Ta tip zanke se lahko izvaja v nedogled in se konča, ko je izpolnjen predpisan pogoj."
   ]
  },
  {
   "cell_type": "code",
   "execution_count": 5,
   "id": "0fadd12b-394f-439f-8ca7-abb7ed4778e9",
   "metadata": {},
   "outputs": [
    {
     "name": "stdout",
     "output_type": "stream",
     "text": [
      "1\n",
      "2\n",
      "3\n",
      "4\n",
      "5\n"
     ]
    }
   ],
   "source": [
    "i = 1\n",
    "while i < 6:\n",
    "  print(i)\n",
    "  i += 1"
   ]
  },
  {
   "cell_type": "markdown",
   "id": "e168b8bd-2953-4b5f-87ac-c6648fc0446e",
   "metadata": {},
   "source": [
    "Uporaba ukaza **break** za zaustavitev izvajanja zanke"
   ]
  },
  {
   "cell_type": "code",
   "execution_count": 6,
   "id": "ed624411-5430-4f11-98fb-cb586d847b48",
   "metadata": {},
   "outputs": [
    {
     "name": "stdout",
     "output_type": "stream",
     "text": [
      "1\n",
      "2\n",
      "3\n"
     ]
    }
   ],
   "source": [
    "i = 1\n",
    "while i < 6:\n",
    "  print(i)\n",
    "  if i == 3:\n",
    "    break\n",
    "  i += 1 "
   ]
  },
  {
   "cell_type": "markdown",
   "id": "daf9993e-687f-424e-b774-dcdc2c36c1f8",
   "metadata": {},
   "source": [
    "Uporaba ukaza **continue** za preskok v novo iteracij zanje, brez izvedbe celotne zanke"
   ]
  },
  {
   "cell_type": "code",
   "execution_count": 7,
   "id": "5b7f3443-e0aa-48b1-8ef5-5fc1f9d2749f",
   "metadata": {},
   "outputs": [
    {
     "name": "stdout",
     "output_type": "stream",
     "text": [
      "1\n",
      "2\n",
      "4\n",
      "5\n",
      "6\n"
     ]
    }
   ],
   "source": [
    "i = 0\n",
    "while i < 6:\n",
    "  i += 1\n",
    "  if i == 3:\n",
    "    continue\n",
    "  print(i)"
   ]
  },
  {
   "cell_type": "markdown",
   "id": "bdb482cf-9628-46d1-9133-f062abdf298d",
   "metadata": {},
   "source": [
    "Uporaba **else** ukaza, ko se pogoj v zanki spremeni v FALSE"
   ]
  },
  {
   "cell_type": "code",
   "execution_count": 8,
   "id": "79bffbfb-61c5-49e6-aaf9-5980c2eee110",
   "metadata": {},
   "outputs": [
    {
     "name": "stdout",
     "output_type": "stream",
     "text": [
      "1\n",
      "2\n",
      "3\n",
      "4\n",
      "5\n",
      "i is no longer less than 6\n"
     ]
    }
   ],
   "source": [
    "i = 1\n",
    "while i < 6:\n",
    "  print(i)\n",
    "  i += 1\n",
    "else:\n",
    "  print(\"i is no longer less than 6\")"
   ]
  }
 ],
 "metadata": {
  "kernelspec": {
   "display_name": "Conda-MATH",
   "language": "python",
   "name": "computation"
  },
  "language_info": {
   "codemirror_mode": {
    "name": "ipython",
    "version": 3
   },
   "file_extension": ".py",
   "mimetype": "text/x-python",
   "name": "python",
   "nbconvert_exporter": "python",
   "pygments_lexer": "ipython3",
   "version": "3.9.7"
  }
 },
 "nbformat": 4,
 "nbformat_minor": 5
}
