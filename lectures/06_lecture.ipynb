{
 "cells": [
  {
   "cell_type": "markdown",
   "id": "35c87c32-152c-44c3-a554-0635d26042d7",
   "metadata": {},
   "source": [
    "# Uvod v Python\n",
    "\n",
    "## Lecture - 06\n",
    "\n",
    "Vsebina:\n",
    "- osnove uporabe paketa **Pandas**\n",
    "\n",
    "Podrobnejši opis operacij najdete na strani:\n",
    "\n",
    "- **[Python Pandas](https://pandas.pydata.org/docs/)**\n",
    "- **[Pandas - W3School](https://www.w3schools.com/python/pandas/default.asp)**"
   ]
  },
  {
   "cell_type": "markdown",
   "id": "175dd125-327c-47cc-b479-56de578a8271",
   "metadata": {},
   "source": [
    "---\n",
    "\n",
    "Paket **Pandas** deluje nad podatki, ki so zapisani v tabelah, kjer uporablja podatkovno strukturo [DataFrame](https://pandas.pydata.org/docs/reference/api/pandas.DataFrame.html#pandas.DataFrame). Naša navezava na Pandas bo uporaba Excelovih tabel kot hrambe podatkov in python okolja kot procesirno orodje za podatke iz Excela.\n",
    "\n",
    "Podatke v Excelu lahko:\n",
    "- beremo,\n",
    "- zapisujemo.\n",
    "\n",
    "Možne so vse vrste manipulacij po celicah, filtriranje, preskakovanje, ..., skratka neomejene možnosti manipulacije tabel."
   ]
  },
  {
   "cell_type": "markdown",
   "id": "42b8437c-fc20-4385-ba8f-e28e59608bfd",
   "metadata": {},
   "source": [
    "---\n",
    "**Branje iz Excel datoteke**"
   ]
  },
  {
   "cell_type": "code",
   "execution_count": 1,
   "id": "415e1ebe-6b97-44e0-aafa-a249be93cc2c",
   "metadata": {},
   "outputs": [],
   "source": [
    "import pandas as pd"
   ]
  },
  {
   "cell_type": "code",
   "execution_count": 2,
   "id": "085dec10-870a-4af9-bf41-845c6e76c01f",
   "metadata": {},
   "outputs": [],
   "source": [
    "data_01 = pd.read_excel('test_data_read.xlsx', sheet_name='data_01') # MS Excel reader\n",
    "data_02 = pd.read_excel('test_data_read.xlsx', sheet_name='data_02') # MS Excel reader"
   ]
  },
  {
   "cell_type": "code",
   "execution_count": 3,
   "id": "02e13d54-a2c5-44b0-b9b4-01de9ab829ff",
   "metadata": {},
   "outputs": [
    {
     "name": "stdout",
     "output_type": "stream",
     "text": [
      "['x [deg]', 'x [rd]', 'sin(x)']\n",
      "['x [deg]', 'x [rd]', 'cos(x)']\n"
     ]
    }
   ],
   "source": [
    "head_01 = list(data_01.columns)\n",
    "head_02 = list(data_02.columns)\n",
    "\n",
    "print(head_01)\n",
    "print(head_02)"
   ]
  },
  {
   "cell_type": "code",
   "execution_count": 4,
   "id": "f5424b5e-aa77-46cc-9e2a-3ed12757e548",
   "metadata": {},
   "outputs": [
    {
     "name": "stdout",
     "output_type": "stream",
     "text": [
      "column 01 size: 73\n",
      "column 02 size: 73\n"
     ]
    }
   ],
   "source": [
    "x_deg_01 = data_01[head_01[0]]\n",
    "x_rd_01 = data_01[head_01[1]]\n",
    "sin_x_01 = data_01[head_01[2]]\n",
    "\n",
    "print('column 01 size:', x_deg_01.size)\n",
    "\n",
    "x_deg_02 = data_02[head_02[0]]\n",
    "x_rd_02 = data_02[head_02[1]]\n",
    "cos_x_02 = data_02[head_02[2]]\n",
    "\n",
    "print('column 02 size:', x_deg_02.size)"
   ]
  },
  {
   "cell_type": "code",
   "execution_count": 5,
   "id": "88a2676d-dd5b-44b6-8dd9-783cb090f76b",
   "metadata": {},
   "outputs": [],
   "source": [
    "import math as mat\n",
    "import numpy as np\n",
    "import matplotlib.pyplot as mpl # knjižnjica za plot\n",
    "\n",
    "# MatPlotLib set fonts\n",
    "mpl.rcParams['font.family'] = 'serif'\n",
    "mpl.rcParams['font.serif'] = ['DejaVu Serif']\n",
    "\n",
    "# MatPlotLib set LaTeX use\n",
    "mpl.rcParams['text.usetex'] = True\n",
    "mpl.rcParams['text.latex.preamble'] = r'\\usepackage{siunitx}'"
   ]
  },
  {
   "cell_type": "code",
   "execution_count": 6,
   "id": "c2aff5ed-dbc7-4e6c-a9cc-c408961ce87c",
   "metadata": {},
   "outputs": [
    {
     "data": {
      "image/png": "[encoded data removed]",
      "text/plain": [
       "<Figure size 432x288 with 4 Axes>"
      ]
     },
     "metadata": {
      "needs_background": "light"
     },
     "output_type": "display_data"
    }
   ],
   "source": [
    "fig, ax = mpl.subplots(2,2)\n",
    "\n",
    "ax[0,0].plot(x_deg_01,sin_x_01)\n",
    "ax[0,0].set_xticklabels([])\n",
    "ax[0,0].set_ylabel('$\\sin(x)$')\n",
    "ax[0,0].grid()\n",
    "\n",
    "ax[1,0].plot(x_deg_02,cos_x_02)\n",
    "ax[1,0].set_xlabel('$x$ [deg]')\n",
    "ax[1,0].set_ylabel('$\\cos(x)$')\n",
    "ax[1,0].grid()\n",
    "\n",
    "ax[0,1].plot(x_rd_01,sin_x_01)\n",
    "ax[0,1].set_xticklabels([])\n",
    "ax[0,1].set_yticklabels([])\n",
    "ax[0,1].grid()\n",
    "\n",
    "ax[1,1].plot(x_rd_02,cos_x_02)\n",
    "ax[1,1].set_xlabel('$x$ [rd]')\n",
    "ax[1,1].set_yticklabels([])\n",
    "ax[1,1].grid()"
   ]
  },
  {
   "cell_type": "markdown",
   "id": "76949b17-7b08-4711-8a52-cfc33198977e",
   "metadata": {},
   "source": [
    "---\n",
    "**Pisanje v Excel datoteko**"
   ]
  },
  {
   "cell_type": "code",
   "execution_count": 7,
   "id": "c1f009b1-6739-4f71-8a92-f526fa0e0367",
   "metadata": {},
   "outputs": [
    {
     "name": "stdout",
     "output_type": "stream",
     "text": [
      "head:\n",
      " ['avto', 'cena [€]']\n",
      "\n",
      "data:\n",
      " [['bmw', 40000], ['audi', 30000], ['škoda', 20000], ['fiat', 10000], ['zastava', 1000]]\n"
     ]
    }
   ],
   "source": [
    "car_head = ['avto','cena [€]']\n",
    "car_data = [['bmw',40000],['audi',30000],['škoda',20000],['fiat',10000],['zastava',1000]]\n",
    "\n",
    "print('head:\\n', car_head)\n",
    "print('\\ndata:\\n', car_data)"
   ]
  },
  {
   "cell_type": "code",
   "execution_count": 8,
   "id": "aab05427-e00b-4de4-b477-b13822df1eff",
   "metadata": {},
   "outputs": [
    {
     "name": "stdout",
     "output_type": "stream",
     "text": [
      "Excel data:\n",
      "       avto  cena [€]\n",
      "0      bmw     40000\n",
      "1     audi     30000\n",
      "2    škoda     20000\n",
      "3     fiat     10000\n",
      "4  zastava      1000\n"
     ]
    }
   ],
   "source": [
    "df = pd.DataFrame(data=car_data, columns=car_head)\n",
    "\n",
    "print('Excel data:\\n', df)"
   ]
  },
  {
   "cell_type": "code",
   "execution_count": 9,
   "id": "6a9c8992-4e23-4277-b516-2a749a1ea079",
   "metadata": {},
   "outputs": [],
   "source": [
    "writer = pd.ExcelWriter('test_data_write.xlsx')\n",
    "\n",
    "df.to_excel(writer, sheet_name = 'all-None')\n",
    "df.to_excel(writer, sheet_name = 'I-F', index=False)\n",
    "df.to_excel(writer, sheet_name = 'H-F', header=False)\n",
    "df.to_excel(writer, sheet_name = 'I-F + H-F', index=False, header=False)\n",
    "\n",
    "writer.save()\n",
    "writer.close()"
   ]
  },
  {
   "cell_type": "code",
   "execution_count": null,
   "id": "971eb3e8-4a30-4141-a3ad-ae107eef7078",
   "metadata": {},
   "outputs": [],
   "source": []
  }
 ],
 "metadata": {
  "kernelspec": {
   "display_name": "Conda-MATH",
   "language": "python",
   "name": "computation"
  },
  "language_info": {
   "codemirror_mode": {
    "name": "ipython",
    "version": 3
   },
   "file_extension": ".py",
   "mimetype": "text/x-python",
   "name": "python",
   "nbconvert_exporter": "python",
   "pygments_lexer": "ipython3",
   "version": "3.9.7"
  }
 },
 "nbformat": 4,
 "nbformat_minor": 5
}
